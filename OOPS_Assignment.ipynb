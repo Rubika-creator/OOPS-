{
  "nbformat": 4,
  "nbformat_minor": 0,
  "metadata": {
    "colab": {
      "provenance": []
    },
    "kernelspec": {
      "name": "python3",
      "display_name": "Python 3"
    },
    "language_info": {
      "name": "python"
    }
  },
  "cells": [
    {
      "cell_type": "markdown",
      "source": [
        "#Theoretical Questions"
      ],
      "metadata": {
        "id": "RNPN0VtlzxJh"
      }
    },
    {
      "cell_type": "markdown",
      "source": [
        "1.  What is Object-Oriented Programming (OOP)?\n",
        ">> Object-Oriented Programming (OOP) is a paradigm where real-world entities are represented as objects that contain data and behavior. It provides concepts like encapsulation, inheritance, abstraction, and polymorphism, which make code modular, reusable, secure, and easier to maintain."
      ],
      "metadata": {
        "id": "uqcBJOTfz0aY"
      }
    },
    {
      "cell_type": "markdown",
      "source": [
        "2. What is a class in OOP?\n",
        ">> In Object-Oriented Programming (OOP), a class is a blueprint or template for creating objects.\n",
        "It defines the attributes (data/variables) and methods (functions/behavior) that the objects created from it will have.\n"
      ],
      "metadata": {
        "id": "LLrlfnhe0oR5"
      }
    },
    {
      "cell_type": "markdown",
      "source": [
        "3. What is an object in OOP+\n",
        ">> In Object-Oriented Programming (OOP), an object is an instance of a class.\n",
        "\n",
        "If a class is a blueprint, then an object is the real-world entity created from that blueprint.\n",
        "\n",
        "An object contains data (attributes) and can perform actions (methods) defined in its class."
      ],
      "metadata": {
        "id": "B4E2QQAH1YTX"
      }
    },
    {
      "cell_type": "markdown",
      "source": [
        "4.What is the difference between abstraction and encapsulation?\n",
        ">> Abstraction is defined as Hiding implementation details and showing only the essential features.Encapsulation involves Bundling data (variables) and methods (functions) into a single unit (class) and restricting direct access."
      ],
      "metadata": {
        "id": "34g3WvpX1w0g"
      }
    },
    {
      "cell_type": "markdown",
      "source": [
        "5. What are dunder methods in Python?\n",
        ">> Dunder methods are also called as magic methods or special methods .These are the double underscore methods in Python, like __init__, __str__, __len__, etc.\n",
        "They let you customize the behavior of your objects for built-in operations (e.g., printing, addition, iteration)."
      ],
      "metadata": {
        "id": "ql0MVGoe2vBv"
      }
    },
    {
      "cell_type": "markdown",
      "source": [
        "6.Explain the concept of inheritance in OOP\n",
        ">> Inheritance is an OOP concept where a class (child / subclass) can reuse and extend the properties and behaviors of another class (parent / superclass).\n",
        "It allows code reusability.\n",
        "It supports extensibility (add new features without changing existing code)."
      ],
      "metadata": {
        "id": "7ryU_Ue23Odg"
      }
    },
    {
      "cell_type": "markdown",
      "source": [
        "7. What is polymorphism in OOP?\n",
        ">> In OOP, polymorphism means the ability of a single function, operator, or method to behave differently based on the object it is acting upon."
      ],
      "metadata": {
        "id": "NZlStBt33mQW"
      }
    },
    {
      "cell_type": "markdown",
      "source": [
        "8.How is encapsulation achieved in Python?\n",
        ">> Python doesn't have strict access modifiers like private, protected, public as in Java/C++.Instead, it uses naming conventions with underscores.\n",
        "Public Members are accessible from anywhere and default behavior in Python.\n",
        "Protected Members use single underscore (_var).It indicates \"for internal use only\", but still accessible.Conventionally, should not be accessed outside the class or its subclasses.\n",
        "Private Members use double underscore( __var).Name mangling makes them inaccessible directly from outside the class.It can only be accessed via methods (getters/setters)."
      ],
      "metadata": {
        "id": "J3Kpqpqy5s74"
      }
    },
    {
      "cell_type": "markdown",
      "source": [
        "9. What is a constructor in Python?\n",
        ">> A constructor in Python is a special method called automatically when an object of a class is created.Its purpose is to initialize the object's attributes and set up initial state.\n",
        "\n",
        "In Python, the constructor is the __init__() method."
      ],
      "metadata": {
        "id": "ms2Wfo1G7VFO"
      }
    },
    {
      "cell_type": "markdown",
      "source": [
        "10. What are class and static methods in Python?\n",
        ">> Class Methods are declared using the @classmethod decorator.The first parameter is cls (not self).\n",
        "\n",
        "It can access and modify class-level data, but not instance-specific data.\n",
        "It is used when you want to work with the class as a whole rather than individual objects.\n",
        "\n",
        "Static Methods are declared using the @staticmethod decorator.It use No self or cls its passed automatically.Behaves like a normal function inside a class.\n",
        "\n",
        "Cannot access or modify class/instance data.Used when the method logically belongs to the class but doesn't need class/instance data."
      ],
      "metadata": {
        "id": "ETOMF1aa7rQb"
      }
    },
    {
      "cell_type": "markdown",
      "source": [
        "11. What is method overloading in Python?\n",
        ">> Method Overloading means having multiple methods with the same name but different parameters so they perform different tasks based on arguments.\n",
        "But in Python, true method overloading does NOT exist.\n",
        "If you define multiple methods with the same name, the last definition overrides the previous ones."
      ],
      "metadata": {
        "id": "ZNeH8Ypy8xQs"
      }
    },
    {
      "cell_type": "markdown",
      "source": [
        "12.  What is method overriding in OOP?\n",
        ">> Method Overriding happens when a child (subclass) defines a method with the same name and parameters as a method in its parent (superclass).\n",
        "In this case, the child's version overrides the parent's version when called on the child object.\n"
      ],
      "metadata": {
        "id": "QZcnj4N09QIr"
      }
    },
    {
      "cell_type": "markdown",
      "source": [
        "13. What is a property decorator in Python?\n",
        ">> The @property decorator in Python is used to define getters, setters, and deleters for class attributes in an elegant way, without explicitly calling methods.\n",
        " It allows us to access methods like attributes and used to implement encapsulation (control access to variables)."
      ],
      "metadata": {
        "id": "mnPUniAc9s8j"
      }
    },
    {
      "cell_type": "markdown",
      "source": [
        "14. Why is polymorphism important in OOP?\n",
        ">> It allows different classes to define methods with the same name but different behaviors, and the correct method is chosen at runtime depending on the object.Its importance are Code Reusability, Flexibility & Extensibility, Clean & Maintainable Code, Supports Dynamic Behavior (Runtime Polymorphism), Encourages Abstraction"
      ],
      "metadata": {
        "id": "vr-vcG-O-JNC"
      }
    },
    {
      "cell_type": "markdown",
      "source": [
        "15. What is an abstract class in Python?\n",
        ">> An abstract class is a blueprint for other classes.It can define abstract methods (methods with only a declaration, no implementation).\n",
        "Any class inheriting from it must implement those abstract methods.\n",
        "In Python, abstract classes are created using the abc (Abstract Base Class) module."
      ],
      "metadata": {
        "id": "kBl660tG-wkM"
      }
    },
    {
      "cell_type": "markdown",
      "source": [
        "16. What are the advantages of OOP?\n",
        ">> The advantages of OOP are modularity, reusability, encapsulation(Data Security), abstraction(Hiding Complexity), inheritance(Code Reuse & Extensibility), polymorphism(Flexibility), and maintainability, which make programs more structured, secure, and scalable.”"
      ],
      "metadata": {
        "id": "q01r7ZFD_JFb"
      }
    },
    {
      "cell_type": "markdown",
      "source": [
        "17. What is the difference between a class variable and an instance variable?\n",
        ">> Class variable is Shared by all objects of the class.Instance variable is unique to each object of the class.Class variable is defined inside the class, but outside methods.Instance variable is defined inside the constructor (__init__) or other instance methods using self."
      ],
      "metadata": {
        "id": "m0B8IJtr_u30"
      }
    },
    {
      "cell_type": "markdown",
      "source": [
        "18. What is multiple inheritance in Python?\n",
        ">> Multiple inheritance is nothing but the subclass is inherited from more than one parent class.This allows the subclass to use attributes and methods from multiple classes."
      ],
      "metadata": {
        "id": "4yyK-I-VA7jF"
      }
    },
    {
      "cell_type": "markdown",
      "source": [
        "19. Explain the purpose of \"__str__' and '__repr__\" methods in Python\n",
        ">> __str__ is for readable / user-friendly string representation.\n",
        "__repr__ is for unambiguous / developer-friendly string representation."
      ],
      "metadata": {
        "id": "uVjvnvsxBd-a"
      }
    },
    {
      "cell_type": "markdown",
      "source": [
        "20. What is the significance of the ‘super()’ function in Python?\n",
        ">> super() is a built-in function that lets you call methods from a parent (super) class in a child class.\n",
        "It's mainly used in inheritance to reuse and extend functionality of the parent class.Avoids explicitly naming the parent class and Supports multiple inheritance."
      ],
      "metadata": {
        "id": "Q2EGKDPTCEFi"
      }
    },
    {
      "cell_type": "markdown",
      "source": [
        "21. What is the significance of the __del__ method in Python?\n",
        ">> __del__ is a destructor method in Python.\n",
        "It is automatically called when an object is about to be destroyed.\n",
        "The purpose is to free resources (like closing files, network connections, or releasing memory)."
      ],
      "metadata": {
        "id": "Gr1ijyMvG4xw"
      }
    },
    {
      "cell_type": "markdown",
      "source": [
        "22. What is the difference between @staticmethod and @classmethod in Python?\n",
        ">> @staticmethod is a method that does not depend on object (self) or class (cls).It is used when the method logic is independent of class or instance data .It can be called on class or object, but has no idea about either.\n",
        "\n",
        "@classmethod is a method that takes the class (cls) as the first parameter.\n",
        "When the method needs to work with the class itself (like factory methods, alternative constructors, or class-level operations).It can be called on class or object, but receives the class itself as first argument."
      ],
      "metadata": {
        "id": "IR3WkFiKHmvJ"
      }
    },
    {
      "cell_type": "markdown",
      "source": [
        "23.  How does polymorphism work in Python with inheritance?\n",
        ">> In Python, polymorphism with inheritance allows child classes to override parent methods. The same method call can behave differently depending on the object type, making code more flexible and reusable."
      ],
      "metadata": {
        "id": "U0Cu-8qTIxpf"
      }
    },
    {
      "cell_type": "markdown",
      "source": [
        "24.  What is method chaining in Python OOP?\n",
        ">> Method chaining in Python OOP is achieved by returning self from methods, allowing multiple method calls on the same object in a single expression. It improves code readability and supports fluent APIs."
      ],
      "metadata": {
        "id": "h4x_B665JHTm"
      }
    },
    {
      "cell_type": "markdown",
      "source": [
        "25. What is the purpose of the __call__ method in Python?\n",
        ">> The __call__ method allows instances of a class to be called like a function.\n",
        "Normally, you call functions using () → func().\n",
        "\n",
        "If a class defines __call__, then its objects can also be used with ()."
      ],
      "metadata": {
        "id": "uPk9Rnu-JfiG"
      }
    },
    {
      "cell_type": "markdown",
      "source": [
        "#Practical Questions\n"
      ],
      "metadata": {
        "id": "CzyTXVgJ10Ft"
      }
    },
    {
      "cell_type": "code",
      "source": [
        "# 1. Create a parent class Animal with a method speak() that prints a generic message. Create a child class Dog\n",
        "# that overrides the speak() method to print \"Bark!\".\n",
        "\n",
        "class Animal:\n",
        "  def speak(slef):\n",
        "    print(\"Animal speaks\")\n",
        "class Dog(Animal):\n",
        "  def speak(self):\n",
        "    print(\"Barks\")\n",
        "\n",
        "d1=Dog()\n",
        "d1.speak()"
      ],
      "metadata": {
        "colab": {
          "base_uri": "https://localhost:8080/"
        },
        "id": "Aqh_MDeT13oU",
        "outputId": "62a00d4d-9686-4f44-f518-2a9586fc0bea"
      },
      "execution_count": 2,
      "outputs": [
        {
          "output_type": "stream",
          "name": "stdout",
          "text": [
            "Barks\n"
          ]
        }
      ]
    },
    {
      "cell_type": "code",
      "source": [
        "# #2 Write a program to create an abstract class Shape with a method area(). Derive classes Circle and Rectangle\n",
        "# from it and implement the area() method in both.\n",
        "\n",
        "from abc import ABC, abstractmethod\n",
        "import math\n",
        "\n",
        "class Shape(ABC):\n",
        "  @abstractmethod\n",
        "  def area(self):\n",
        "    pass\n",
        "class Circle(Shape):\n",
        "  def __init__(self,radius):\n",
        "    self.radius=radius\n",
        "  def area(self):\n",
        "    return math.pi*self.radius**2\n",
        "\n",
        "class Rectangle(Shape):\n",
        "  def __init__(self, length, breadth):\n",
        "    self.length=length\n",
        "    self.breath=breadth\n",
        "  def area(self):\n",
        "    return self.length*self.breath\n",
        "\n",
        "\n",
        "c1=Circle(5)\n",
        "print(c1.area())\n",
        "r1=Rectangle(5,6)\n",
        "print(r1.area())"
      ],
      "metadata": {
        "colab": {
          "base_uri": "https://localhost:8080/"
        },
        "id": "J08CbqGw3Hmk",
        "outputId": "476cf095-c3d3-4969-d8f9-105396494fc1"
      },
      "execution_count": 3,
      "outputs": [
        {
          "output_type": "stream",
          "name": "stdout",
          "text": [
            "78.53981633974483\n",
            "30\n"
          ]
        }
      ]
    },
    {
      "cell_type": "code",
      "source": [
        "#  3 . Implement a multi-level inheritance scenario where a class Vehicle has an attribute type. Derive a class Car\n",
        "# and further derive a class ElectricCar that adds a battery attribute.\n",
        "class Vehicle:\n",
        "  def __init__(self,vehicle_type):\n",
        "    self.vehicle_type=vehicle_type\n",
        "\n",
        "  def show_info(self):\n",
        "    print(f\"The car is the {self.vehicle_type}\")\n",
        "\n",
        "class Car(Vehicle):\n",
        "  def __init__(self,vehicle_type,brand):\n",
        "    super().__init__(vehicle_type)\n",
        "    self.brand=brand\n",
        "  def show_info(self):\n",
        "    print(f\"The car {self.vehicle_type} is from the brand{self.brand}\")\n",
        "\n",
        "class ElectricCar(Car):\n",
        "  def __init__(self,vehicle_type,brand,battery):\n",
        "    super().__init__(vehicle_type,brand)\n",
        "    self.battery=battery\n",
        "  def show_info(self):\n",
        "    print (f\"The car {self.vehicle_type} is from the brand{self.brand} has the battery{self.battery}\")\n",
        "\n",
        "\n",
        "c1=Car(\"sedan\",\"TATA\")\n",
        "c1.show_info()\n",
        "\n",
        "e1=ElectricCar(\"Sedan\",\"Punch EV\",\"3000Kwh\")\n",
        "e1.show_info()\n",
        "\n",
        "\n"
      ],
      "metadata": {
        "colab": {
          "base_uri": "https://localhost:8080/"
        },
        "id": "Sfrr2aHu6t3S",
        "outputId": "e7efe9c7-86db-429b-a7d2-c7cef02d8d54"
      },
      "execution_count": 4,
      "outputs": [
        {
          "output_type": "stream",
          "name": "stdout",
          "text": [
            "The car sedan is from the brandTATA\n",
            "The car Sedan is from the brandPunch EV has the battery3000Kwh\n"
          ]
        }
      ]
    },
    {
      "cell_type": "code",
      "source": [
        "# 4 Demonstrate polymorphism by creating a base class Bird with a method fly(). Create two derived classes\n",
        "# Sparrow and Penguin that override the fly() method.\n",
        "\n",
        "class Bird:\n",
        "  def fly(self):\n",
        "    return \"Bird is flying\"\n",
        "\n",
        "class Sparrow(Bird):\n",
        "  def fly(self):\n",
        "    return\"Sparrow is flying\"\n",
        "\n",
        "class Penguin(Bird):\n",
        "  def fly(self):\n",
        "    return \"Penguin is not flying\"\n",
        "s1=Sparrow()\n",
        "print(s1.fly())\n",
        "p1=Penguin()\n",
        "print(p1.fly())"
      ],
      "metadata": {
        "colab": {
          "base_uri": "https://localhost:8080/"
        },
        "id": "_RUYRwZ5DVjU",
        "outputId": "8a163c00-7d68-4ad3-b2e5-a8e4db6436b1"
      },
      "execution_count": 5,
      "outputs": [
        {
          "output_type": "stream",
          "name": "stdout",
          "text": [
            "Sparrow is flying\n",
            "Penguin is not flying\n"
          ]
        }
      ]
    },
    {
      "cell_type": "code",
      "source": [
        "# 5 Write a program to demonstrate encapsulation by creating a class BankAccount with private attributes\n",
        "# balance and methods to deposit, withdraw, and check balance.\n",
        "class BankAccount:\n",
        "    def __init__(self, initial_balance=0):\n",
        "        self.__balance = initial_balance\n",
        "\n",
        "    def deposit(self, amount):\n",
        "            self.__balance += amount\n",
        "            print(f\"Deposited: {amount}\")\n",
        "\n",
        "    def withdraw(self, amount):\n",
        "            if amount <= self.__balance:\n",
        "                self.__balance -= amount\n",
        "                print(f\"Withdrawn: {amount}\")\n",
        "            else:\n",
        "                print(\"Insufficient balance.\")\n",
        "    def check_balance(self):\n",
        "        print(f\"Current balance: {self.__balance}\")\n",
        "        return self.__balance\n",
        "\n",
        "\n",
        "account = BankAccount(1000)\n",
        "account.check_balance()\n",
        "account.deposit(500)\n",
        "account.check_balance()\n",
        "account.withdraw(200)\n",
        "account.check_balance()\n",
        "account.withdraw(2000)"
      ],
      "metadata": {
        "colab": {
          "base_uri": "https://localhost:8080/"
        },
        "id": "tUTKj76uJQTh",
        "outputId": "a014ad1b-cece-4a6d-fe3c-c02ba00740ca"
      },
      "execution_count": 6,
      "outputs": [
        {
          "output_type": "stream",
          "name": "stdout",
          "text": [
            "Current balance: 1000\n",
            "Deposited: 500\n",
            "Current balance: 1500\n",
            "Withdrawn: 200\n",
            "Current balance: 1300\n",
            "Insufficient balance.\n"
          ]
        }
      ]
    },
    {
      "cell_type": "code",
      "source": [
        "# 6. Demonstrate runtime polymorphism using a method play() in a base class Instrument. Derive classes Guitar\n",
        "# and Piano that implement their own version of play().\n",
        "class Instrument:\n",
        "  def play(self):\n",
        "    return\"Instrument is playing\"\n",
        "\n",
        "class Piano(Instrument):\n",
        "  def play(self):\n",
        "    return \"Piano is playing\"\n",
        "\n",
        "class Guitar(Instrument):\n",
        "  def play(self):\n",
        "    return\"Guitar is playing\"\n",
        "I1=Instrument()\n",
        "p1=Piano()\n",
        "g1=Guitar()\n",
        "\n",
        "instruments=[I1,p1,g1]\n",
        "for i in instruments:\n",
        "  print(i.play())"
      ],
      "metadata": {
        "colab": {
          "base_uri": "https://localhost:8080/"
        },
        "id": "QUoZZcJpJ7VA",
        "outputId": "b3c964d5-a0c6-46c3-dd6e-1fead7f758cf"
      },
      "execution_count": 7,
      "outputs": [
        {
          "output_type": "stream",
          "name": "stdout",
          "text": [
            "Instrument is playing\n",
            "Piano is playing\n",
            "Guitar is playing\n"
          ]
        }
      ]
    },
    {
      "cell_type": "code",
      "source": [
        " #7  Create a class MathOperations with a class method add_numbers() to add two numbers and a static\n",
        "# method subtract_numbers() to subtract two numbers.\n",
        "\n",
        "class MathOperations:\n",
        "\n",
        "  @classmethod\n",
        "  def add(cls,num1,num2):\n",
        "    return(num1+num2)\n",
        "\n",
        "  @staticmethod\n",
        "  def subtract(num1,num2):\n",
        "    return num1-num2\n",
        "sum=MathOperations()\n",
        "print(sum.add(5,9))\n",
        "\n",
        "diff=MathOperations()\n",
        "print(diff.subtract(8,3))"
      ],
      "metadata": {
        "colab": {
          "base_uri": "https://localhost:8080/"
        },
        "id": "pzrxYSAyLv6Z",
        "outputId": "e72398de-ce41-4b00-e4a9-ca8c54371585"
      },
      "execution_count": 8,
      "outputs": [
        {
          "output_type": "stream",
          "name": "stdout",
          "text": [
            "14\n",
            "5\n"
          ]
        }
      ]
    },
    {
      "cell_type": "code",
      "source": [
        "# 8  Implement a class Person with a class method to count the total number of persons created\n",
        "class Person:\n",
        "  total_count=0\n",
        "  def __init__(self,name,age):\n",
        "    self.name=name\n",
        "    self.age=age\n",
        "\n",
        "    Person.total_count+=1\n",
        "\n",
        "\n",
        "  @classmethod\n",
        "  def get_total_count(cls):\n",
        "    return cls.total_count\n",
        "\n",
        "p1=Person('Ruby',27)\n",
        "p2=Person('Narmadha',45)\n",
        "p3=Person('Glenny', 40)\n",
        "p4=Person('Kamatchi',45)\n",
        "p5=Person('Kanmani',28)\n",
        "\n",
        "print(f\"The total no of persons is {Person.get_total_count()}\")"
      ],
      "metadata": {
        "colab": {
          "base_uri": "https://localhost:8080/"
        },
        "id": "PZRdAv5eNqcm",
        "outputId": "d234f5e1-a333-46b0-8ed6-773a7557fc0b"
      },
      "execution_count": 9,
      "outputs": [
        {
          "output_type": "stream",
          "name": "stdout",
          "text": [
            "The total no of persons is 5\n"
          ]
        }
      ]
    },
    {
      "cell_type": "code",
      "source": [
        "# 9  Write a class Fraction with attributes numerator and denominator. Override the str method to display the\n",
        "# fraction as \"numerator/denominator\".\n",
        "\n",
        "class Fraction:\n",
        "  def __init__(self,numerator,denomenator):\n",
        "    self.numerator=numerator\n",
        "    self.denomenator=denomenator\n",
        "\n",
        "  def __str__(self):\n",
        "    return f\"{self.numerator}/{self.denomenator}\"\n",
        "\n",
        "num1=Fraction(10,5)\n",
        "print(num1.__str__())\n",
        "num2=Fraction(9,5)\n",
        "print(num2.__str__())"
      ],
      "metadata": {
        "colab": {
          "base_uri": "https://localhost:8080/"
        },
        "id": "m5-yTGAwQKwM",
        "outputId": "cb90f979-85fd-4621-9e91-f1ac4fc7e4a0"
      },
      "execution_count": 10,
      "outputs": [
        {
          "output_type": "stream",
          "name": "stdout",
          "text": [
            "10/5\n",
            "9/5\n"
          ]
        }
      ]
    },
    {
      "cell_type": "code",
      "source": [
        "# 10 Demonstrate operator overloading by creating a class Vector and overriding the add method to add two\n",
        "# vectors\n",
        "class Vector:\n",
        "  def __init__(self,x,y):\n",
        "    self.x=x\n",
        "    self.y=y\n",
        "\n",
        "  def __add__(self,other):\n",
        "    return Vector(self.x + other.x, self.y + other.y)\n",
        "\n",
        "  def __str__(self):\n",
        "    return f\"{self.x},{self.y}\"\n",
        "\n",
        "v1=Vector(2,4)\n",
        "v2=Vector(3,6)\n",
        "v3=(v1+v2)\n",
        "print(f\"{v1}+{v2} is {v3}\")"
      ],
      "metadata": {
        "colab": {
          "base_uri": "https://localhost:8080/"
        },
        "id": "jEeL3QyuYebj",
        "outputId": "87762510-592b-43e2-a1b6-408ae5807e7b"
      },
      "execution_count": 11,
      "outputs": [
        {
          "output_type": "stream",
          "name": "stdout",
          "text": [
            "2,4+3,6 is 5,10\n"
          ]
        }
      ]
    },
    {
      "cell_type": "code",
      "source": [
        "# 11 Create a class Person with attributes name and age. Add a method greet() that prints \"Hello, my name is\n",
        "# {name} and I am {age} years old.\"\n",
        "class Person:\n",
        "  def __init__(self,name,age):\n",
        "    self.name=name\n",
        "    self.age=age\n",
        "  def greet(self):\n",
        "    return f\"Hello my name is {self.name} and I am {self.age} years old\"\n",
        "\n",
        "p1=Person('Kannan',25)\n",
        "print(p1.greet())"
      ],
      "metadata": {
        "colab": {
          "base_uri": "https://localhost:8080/"
        },
        "id": "4t6-aROISFCf",
        "outputId": "3518f7ee-207c-462a-a581-51c5d0553e3a"
      },
      "execution_count": 12,
      "outputs": [
        {
          "output_type": "stream",
          "name": "stdout",
          "text": [
            "Hello my name is Kannan and I am 25 years old\n"
          ]
        }
      ]
    },
    {
      "cell_type": "code",
      "metadata": {
        "colab": {
          "base_uri": "https://localhost:8080/"
        },
        "id": "2a2c6aff",
        "outputId": "64a636ab-36f8-4e6b-f9e4-4b119944a776"
      },
      "source": [
        " # 12 Implement a class Student with attributes name and grades. Create a method average_grade() to compute\n",
        "# the average of the grades.\n",
        "\n",
        "class Student:\n",
        "    def __init__(self, name, grades):\n",
        "        self.name = name\n",
        "        self.grades = grades\n",
        "\n",
        "    def average_grade(self):\n",
        "        if len(self.grades) == 0:\n",
        "            return 0\n",
        "        return sum(self.grades) / len(self.grades)\n",
        "\n",
        "\n",
        "# Object creation and method call should be outside the class\n",
        "stud1 = Student('Benny', [88, 90, 87, 65, 89])\n",
        "print(f\"The student {stud1.name} has an average grade {stud1.average_grade():.2f}\")"
      ],
      "execution_count": 1,
      "outputs": [
        {
          "output_type": "stream",
          "name": "stdout",
          "text": [
            "The student Benny has an average grade 83.80\n"
          ]
        }
      ]
    },
    {
      "cell_type": "code",
      "source": [
        "#13 Create a class Rectangle with methods set_dimensions() to set the dimensions and area() to calculate the\n",
        "# area.\n",
        "class Rectangle:\n",
        "  def set_dimension(self,length,breadth):\n",
        "    self.length=length\n",
        "    self.breadth=breadth\n",
        "  def area(self):\n",
        "    return self.length*self.breadth\n",
        "\n",
        "r1=Rectangle()\n",
        "r1.set_dimension(9, 12) # Pass length and breadth as separate arguments\n",
        "print(r1.area())"
      ],
      "metadata": {
        "colab": {
          "base_uri": "https://localhost:8080/"
        },
        "id": "4Yvu3Fd6s4am",
        "outputId": "8e879f94-1576-4cdb-96cf-3c3a394a5092"
      },
      "execution_count": 13,
      "outputs": [
        {
          "output_type": "stream",
          "name": "stdout",
          "text": [
            "108\n"
          ]
        }
      ]
    },
    {
      "cell_type": "code",
      "source": [
        "# 14 Create a class Employee with a method calculate_salary() that computes the salary based on hours worked\n",
        "# and hourly rate. Create a derived class Manager that adds a bonus to the salary.\n",
        "class Employee:\n",
        "  def __init__(self,hours_worked,hourly_rate):\n",
        "    self.hours_worked=hours_worked\n",
        "    self.hourly_rate=hourly_rate\n",
        "  def calculate_salary(self):\n",
        "    return self.hours_worked*self.hourly_rate\n",
        "\n",
        "class Manager(Employee):\n",
        "  def __init__(self,hours_worked,hourly_rate,bonus):\n",
        "    super().__init__(hours_worked,hourly_rate)\n",
        "    self.bonus=bonus\n",
        "  def calculate_salary_bonus(self):\n",
        "    base_salary=super().calculate_salary()\n",
        "    return base_salary + self.bonus\n",
        "\n",
        "E1=Employee(8,30)\n",
        "print(\"Salary is:\",E1.calculate_salary())\n",
        "M1=Manager(9,20,300)\n",
        "print(\"The salary with bonus:\",M1.calculate_salary_bonus())\n"
      ],
      "metadata": {
        "colab": {
          "base_uri": "https://localhost:8080/"
        },
        "id": "nv6ZSH59vTpk",
        "outputId": "d2828e0f-5dc7-4e1b-cc13-db795919ed8e"
      },
      "execution_count": 14,
      "outputs": [
        {
          "output_type": "stream",
          "name": "stdout",
          "text": [
            "Salary is: 240\n",
            "The salary with bonus: 480\n"
          ]
        }
      ]
    },
    {
      "cell_type": "code",
      "source": [
        "#15 Create a class Product with attributes name, price, and quantity. Implement a method total_price() that\n",
        "calculates the total price of the product.\n",
        "class Product:\n",
        "  def __init__(self,name,price,quantity):\n",
        "    self.name=name\n",
        "    self.price=price\n",
        "    self.quantity=quantity\n",
        "  def total_price(self):\n",
        "    return self.price*self.quantity\n",
        "\n",
        "p1=Product('pen',10,200)\n",
        "print(f\"The total price of the product {p1.name} is {p1.total_price()}\")"
      ],
      "metadata": {
        "colab": {
          "base_uri": "https://localhost:8080/",
          "height": 106
        },
        "id": "sTaLp7e3yuUz",
        "outputId": "be65dfae-0c12-4935-9416-176cfc32d193"
      },
      "execution_count": 15,
      "outputs": [
        {
          "output_type": "error",
          "ename": "SyntaxError",
          "evalue": "invalid syntax (ipython-input-1956560353.py, line 2)",
          "traceback": [
            "\u001b[0;36m  File \u001b[0;32m\"/tmp/ipython-input-1956560353.py\"\u001b[0;36m, line \u001b[0;32m2\u001b[0m\n\u001b[0;31m    calculates the total price of the product.\u001b[0m\n\u001b[0m               ^\u001b[0m\n\u001b[0;31mSyntaxError\u001b[0m\u001b[0;31m:\u001b[0m invalid syntax\n"
          ]
        }
      ]
    },
    {
      "cell_type": "code",
      "source": [
        "#16 Create a class Animal with an abstract method sound(). Create two derived classes Cow and Sheep that\n",
        "# implement the sound() method.\n",
        "from abc import ABC, abstractmethod\n",
        "\n",
        "class Animal(ABC):\n",
        "  def __init__(self):\n",
        "    pass\n",
        "  @abstractmethod\n",
        "  def sound(self):\n",
        "    return \"The animal is making sound\"\n",
        "\n",
        "class Cow(Animal):\n",
        "  def sound(self):\n",
        "    return \" Cow is making sound\"\n",
        "\n",
        "class Sheep(Animal):\n",
        "  def sound(self):\n",
        "    return \" Sheep is making sound\"\n",
        "\n",
        "cow1=Cow()\n",
        "print(cow1.sound())\n",
        "sheep1=Sheep()\n",
        "print(sheep1.sound())"
      ],
      "metadata": {
        "id": "paeaapWD0UIL"
      },
      "execution_count": null,
      "outputs": []
    },
    {
      "cell_type": "code",
      "source": [
        "#17  Create a class Book with attributes title, author, and year_published. Add a method get_book_info() that\n",
        "returns a formatted string with the book's details.\n",
        "class Book:\n",
        "  def __init__(self,title,author,year_published):\n",
        "    self.title=title\n",
        "    self.author=author\n",
        "    self.year=year_published\n",
        "  def get_info(self):\n",
        "    return f\" The book {self.title} is written by {self.author} and published in the year {self.year}\"\n",
        "Book1=Book('The Alchemist','Paulo Coelho',1988)\n",
        "print(Book1.get_info())"
      ],
      "metadata": {
        "id": "RtADckUL3JJ6"
      },
      "execution_count": null,
      "outputs": []
    },
    {
      "cell_type": "code",
      "source": [
        " # 18  Create a class House with attributes address and price. Create a derived class Mansion that adds an\n",
        "# attribute number_of_rooms.\n",
        "class House:\n",
        "  def __init__(self,address,price):\n",
        "    self.address=address\n",
        "    self.price=price\n",
        "\n",
        "  def get_info(self):\n",
        "    return f\" The house at  {self.address} is at the price {self.price}\"\n",
        "\n",
        "class Mansion(House):\n",
        "  def __init__(self,address,price,number_of_rooms):\n",
        "    super().__init__(address,price)\n",
        "    self.number_of_rooms=number_of_rooms\n",
        "  def get_info(self):\n",
        "    return f\"The mansion {self.address} is having {self.number_of_rooms} at price{self.price}\"\n",
        "H1=House(\"Ashok Nagar\",'60 Lakhs')\n",
        "print(H1.get_info())\n",
        "M1=Mansion(\"Villivakkam\",'80 lakhs',10)\n",
        "print(M1.get_info())\n"
      ],
      "metadata": {
        "id": "brpEz9K34xar"
      },
      "execution_count": null,
      "outputs": []
    }
  ]
}